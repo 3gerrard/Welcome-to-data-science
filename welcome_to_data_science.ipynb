{
  "nbformat": 4,
  "nbformat_minor": 0,
  "metadata": {
    "colab": {
      "provenance": [],
      "authorship_tag": "ABX9TyMgGIbSswSCXF6/Z91H+3tm",
      "include_colab_link": true
    },
    "kernelspec": {
      "name": "python3",
      "display_name": "Python 3"
    },
    "language_info": {
      "name": "python"
    }
  },
  "cells": [
    {
      "cell_type": "markdown",
      "metadata": {
        "id": "view-in-github",
        "colab_type": "text"
      },
      "source": [
        "<a href=\"https://colab.research.google.com/github/3gerrard/Welcome-to-data-science/blob/main/welcome_to_data_science.ipynb\" target=\"_parent\"><img src=\"https://colab.research.google.com/assets/colab-badge.svg\" alt=\"Open In Colab\"/></a>"
      ]
    },
    {
      "cell_type": "code",
      "execution_count": 13,
      "metadata": {
        "id": "Cojz9fLJlbKu"
      },
      "outputs": [],
      "source": [
        "import numpy as np\n"
      ]
    },
    {
      "cell_type": "code",
      "source": [
        "student_details={\n",
        "\"names\":[\"gerrard\",\"bismark\",\"kamal\",\"jahdiel\",\"naa shormey\",\"angel\"\n",
        "  ,\"hinda\",\"farida\",\"selasi\",\"naomi\"],\n",
        "\"scores\":[100,54,56,59,90,8,56,23,45,13]\n",
        "}\n",
        "print(student_details)"
      ],
      "metadata": {
        "colab": {
          "base_uri": "https://localhost:8080/"
        },
        "id": "kzJMnRpIoOil",
        "outputId": "c109f233-9d9c-424a-9680-782804f7d4e4"
      },
      "execution_count": 14,
      "outputs": [
        {
          "output_type": "stream",
          "name": "stdout",
          "text": [
            "{'names': ['gerrard', 'bismark', 'kamal', 'jahdiel', 'naa shormey', 'angel', 'hinda', 'farida', 'selasi', 'naomi'], 'scores': [100, 54, 56, 59, 90, 8, 56, 23, 45, 13]}\n"
          ]
        }
      ]
    },
    {
      "cell_type": "code",
      "source": [
        "sorted_scores=np.sort( student_details[\"scores\"])[::-1]\n",
        "print(sorted_scores)\n"
      ],
      "metadata": {
        "colab": {
          "base_uri": "https://localhost:8080/"
        },
        "id": "2aruZGQYpVtm",
        "outputId": "1c6b1013-eef0-4bbf-96eb-69484f08b554"
      },
      "execution_count": 15,
      "outputs": [
        {
          "output_type": "stream",
          "name": "stdout",
          "text": [
            "[100  90  59  56  56  54  45  23  13   8]\n"
          ]
        }
      ]
    }
  ]
}